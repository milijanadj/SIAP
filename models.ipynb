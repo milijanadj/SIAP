{
 "cells": [
  {
   "cell_type": "code",
   "execution_count": 31,
   "id": "224a61d5",
   "metadata": {},
   "outputs": [],
   "source": [
    "import pandas\n",
    "from sklearn.neighbors import KNeighborsClassifier\n",
    "from sklearn.preprocessing import StandardScaler\n",
    "from sklearn.metrics import classification_report, confusion_matrix\n",
    "import numpy as np\n",
    "from sklearn.linear_model import LogisticRegression\n",
    "from sklearn.svm import SVC\n",
    "from sklearn.naive_bayes import GaussianNB\n",
    "from sklearn.tree import DecisionTreeClassifier\n",
    "from matplotlib import pyplot as plt\n",
    "from sklearn import tree\n",
    "from sklearn.ensemble import RandomForestClassifier\n",
    "from sklearn.metrics import ConfusionMatrixDisplay\n",
    "import pickle\n",
    "from sklearn.metrics import precision_recall_fscore_support as score"
   ]
  },
  {
   "cell_type": "markdown",
   "id": "123e5e23",
   "metadata": {},
   "source": [
    "# Klasifikatori"
   ]
  },
  {
   "cell_type": "code",
   "execution_count": 32,
   "id": "8233c042",
   "metadata": {},
   "outputs": [],
   "source": [
    "def get_fscore(y_test, y_pred):\n",
    "    precision, recall, fscore, support=score(y_test, y_pred, average='macro')\n",
    "    return fscore"
   ]
  },
  {
   "cell_type": "markdown",
   "id": "acf26fdb",
   "metadata": {},
   "source": [
    "## KNN"
   ]
  },
  {
   "cell_type": "code",
   "execution_count": 33,
   "id": "9de488b3",
   "metadata": {},
   "outputs": [
    {
     "name": "stdout",
     "output_type": "stream",
     "text": [
      "k: 6\n"
     ]
    }
   ],
   "source": [
    "#ucitavanje\n",
    "train_df = pandas.read_csv('datasets/train.csv')\n",
    "X_train = train_df.iloc[:, [3, 5, 6, 7, 8, 9, 11]].values\n",
    "y_train = train_df.iloc[:, 4].values\n",
    "\n",
    "test_df = pandas.read_csv('datasets/test.csv')\n",
    "X_test = test_df.iloc[:, [3, 5, 6, 7, 8, 9, 11]].values\n",
    "y_test = test_df.iloc[:, 4].values\n",
    "\n",
    "validation_df = pandas.read_csv('datasets/validation.csv')\n",
    "X_validation = validation_df.iloc[:, [3, 5, 6, 7, 8, 9, 11]].values\n",
    "y_validation = validation_df.iloc[:, 4].values\n",
    "\n",
    "#normalizacija\n",
    "scaler = StandardScaler()\n",
    "scaler.fit(X_train)\n",
    "\n",
    "X_train = scaler.transform(X_train)\n",
    "X_test = scaler.transform(X_test)\n",
    "X_validation = scaler.transform(X_validation)\n",
    "\n",
    "#optimizacija k\n",
    "min_error = float('inf')\n",
    "k = 1\n",
    "for i in range(1, 50):\n",
    "    knn = KNeighborsClassifier(n_neighbors=i)\n",
    "    knn.fit(X_train, y_train)\n",
    "    pred_i = knn.predict(X_validation)\n",
    "    error = np.mean(pred_i != y_validation)\n",
    "    if error < min_error:\n",
    "        min_error = error\n",
    "        k = i\n",
    "    \n",
    "print('k: ' + str(k))\n",
    "\n",
    "#treniranje\n",
    "knn = KNeighborsClassifier(n_neighbors = k)\n",
    "knn.fit(X_train, y_train)\n",
    "\n",
    "#predikcija\n",
    "y_pred = knn.predict(X_test)"
   ]
  },
  {
   "cell_type": "code",
   "execution_count": 34,
   "id": "060c49a1",
   "metadata": {},
   "outputs": [
    {
     "data": {
      "image/png": "[encoded data removed]",
      "text/plain": [
       "<Figure size 432x288 with 2 Axes>"
      ]
     },
     "metadata": {
      "needs_background": "light"
     },
     "output_type": "display_data"
    }
   ],
   "source": [
    "cm = confusion_matrix(y_test, y_pred)\n",
    "disp = ConfusionMatrixDisplay(\n",
    "    confusion_matrix=cm,\n",
    "    display_labels=knn.classes_\n",
    ")\n",
    "disp.plot()\n",
    "plt.show()"
   ]
  },
  {
   "cell_type": "code",
   "execution_count": 35,
   "id": "1af3bc91",
   "metadata": {},
   "outputs": [
    {
     "name": "stdout",
     "output_type": "stream",
     "text": [
      "              precision    recall  f1-score   support\n",
      "\n",
      "     NEUTRAL       0.50      0.56      0.53         9\n",
      "     POPULAR       0.78      0.78      0.78         9\n",
      "   UNPOPULAR       0.33      0.30      0.32        10\n",
      "\n",
      "    accuracy                           0.54        28\n",
      "   macro avg       0.54      0.54      0.54        28\n",
      "weighted avg       0.53      0.54      0.53        28\n",
      "\n"
     ]
    }
   ],
   "source": [
    "print(classification_report(y_test, y_pred))"
   ]
  },
  {
   "cell_type": "code",
   "execution_count": 36,
   "id": "276e119c",
   "metadata": {},
   "outputs": [
    {
     "name": "stdout",
     "output_type": "stream",
     "text": [
      "current fscore:  0.5399610136452241\n",
      "old fscore: 0.6245822890559732\n"
     ]
    }
   ],
   "source": [
    "scores = {}\n",
    "\n",
    "fscore = get_fscore(y_test, y_pred)\n",
    "print('current fscore: ', fscore)\n",
    "\n",
    "try:\n",
    "    filename = 'models/knn.pickle'\n",
    "    stored_model = pickle.load(open(filename, 'rb'))\n",
    "    y_pred = stored_model.predict(X_test)\n",
    "\n",
    "    old_fscore = get_fscore(y_test, y_pred)\n",
    "    print('old fscore:', old_fscore)\n",
    "\n",
    "    if fscore > old_fscore:\n",
    "        pickle.dump(knn, open(filename, 'wb'))\n",
    "        print('saved')\n",
    "        scores['knn'] = fscore\n",
    "    else:\n",
    "        scores['knn'] = old_fscore\n",
    "except FileNotFoundError:\n",
    "    pickle.dump(knn, open(filename, 'wb'))\n",
    "    print('saved')\n",
    "    scores['knn'] = fscore"
   ]
  },
  {
   "cell_type": "markdown",
   "id": "3a8aa93a",
   "metadata": {},
   "source": [
    "## Logistic Regression"
   ]
  },
  {
   "cell_type": "code",
   "execution_count": 37,
   "id": "3b8003bf",
   "metadata": {},
   "outputs": [],
   "source": [
    "#ucitavanje\n",
    "train_df = pandas.read_csv('datasets/train.csv')\n",
    "X_train = train_df.iloc[:, [3, 5, 6, 7, 8, 9, 11]].values\n",
    "y_train = train_df.iloc[:, 4].values\n",
    "\n",
    "test_df = pandas.read_csv('datasets/test.csv')\n",
    "X_test = test_df.iloc[:, [3, 5, 6, 7, 8, 9, 11]].values\n",
    "y_test = test_df.iloc[:, 4].values\n",
    "\n",
    "validation_df = pandas.read_csv('datasets/validation.csv')\n",
    "X_validation = validation_df.iloc[:, [3, 5, 6, 7, 8, 9, 11]].values\n",
    "y_validation = validation_df.iloc[:, 4].values\n",
    "\n",
    "#normalizacija\n",
    "scaler = StandardScaler()\n",
    "scaler.fit(X_train)\n",
    "\n",
    "X_train = scaler.transform(X_train)\n",
    "X_test = scaler.transform(X_test)\n",
    "X_validation = scaler.transform(X_validation)\n",
    "\n",
    "#traniranje\n",
    "lr = LogisticRegression(random_state=0).fit(X_train, y_train)\n",
    "\n",
    "#predikcija\n",
    "y_pred = lr.predict(X_test)"
   ]
  },
  {
   "cell_type": "code",
   "execution_count": 38,
   "id": "c10c668f",
   "metadata": {},
   "outputs": [
    {
     "data": {
      "image/png": "[encoded data removed]",
      "text/plain": [
       "<Figure size 432x288 with 2 Axes>"
      ]
     },
     "metadata": {
      "needs_background": "light"
     },
     "output_type": "display_data"
    }
   ],
   "source": [
    "cm = confusion_matrix(y_test, y_pred)\n",
    "disp = ConfusionMatrixDisplay(\n",
    "    confusion_matrix=cm,\n",
    "    display_labels=lr.classes_\n",
    ")\n",
    "disp.plot()\n",
    "plt.show()"
   ]
  },
  {
   "cell_type": "code",
   "execution_count": 39,
   "id": "e1d08c8d",
   "metadata": {},
   "outputs": [
    {
     "name": "stdout",
     "output_type": "stream",
     "text": [
      "              precision    recall  f1-score   support\n",
      "\n",
      "     NEUTRAL       0.55      0.67      0.60         9\n",
      "     POPULAR       0.67      0.89      0.76         9\n",
      "   UNPOPULAR       0.60      0.30      0.40        10\n",
      "\n",
      "    accuracy                           0.61        28\n",
      "   macro avg       0.60      0.62      0.59        28\n",
      "weighted avg       0.60      0.61      0.58        28\n",
      "\n"
     ]
    }
   ],
   "source": [
    "print(classification_report(y_test, y_pred))"
   ]
  },
  {
   "cell_type": "code",
   "execution_count": 40,
   "id": "f83508ce",
   "metadata": {},
   "outputs": [
    {
     "name": "stdout",
     "output_type": "stream",
     "text": [
      "current fscore:  0.5873015873015873\n",
      "old fscore: 0.5873015873015873\n"
     ]
    }
   ],
   "source": [
    "fscore = get_fscore(y_test, y_pred)\n",
    "print('current fscore: ', fscore)\n",
    "\n",
    "try:\n",
    "    filename = 'models/lr.pickle'\n",
    "    stored_model = pickle.load(open(filename, 'rb'))\n",
    "    y_pred = stored_model.predict(X_test)\n",
    "\n",
    "    old_fscore = get_fscore(y_test, y_pred)\n",
    "    print('old fscore:', old_fscore)\n",
    "\n",
    "    if fscore > old_fscore:\n",
    "        pickle.dump(lr, open(filename, 'wb'))\n",
    "        print('saved')\n",
    "        scores['loristic regression'] = fscore\n",
    "    else:\n",
    "        scores['logistic regression'] = old_fscore\n",
    "except FileNotFoundError:\n",
    "    pickle.dump(lr, open(filename, 'wb'))\n",
    "    print('saved')\n",
    "    scores['logistic regression'] = fscore"
   ]
  },
  {
   "cell_type": "markdown",
   "id": "f0a134c4",
   "metadata": {},
   "source": [
    "## Support Vector Classification"
   ]
  },
  {
   "cell_type": "code",
   "execution_count": 41,
   "id": "d32726cb",
   "metadata": {},
   "outputs": [],
   "source": [
    "#ucitavanje\n",
    "train_df = pandas.read_csv('datasets/train.csv')\n",
    "X_train = train_df.iloc[:, [3, 5, 6, 7, 8, 9, 11]].values\n",
    "y_train = train_df.iloc[:, 4].values\n",
    "\n",
    "test_df = pandas.read_csv('datasets/test.csv')\n",
    "X_test = test_df.iloc[:, [3, 5, 6, 7, 8, 9, 11]].values\n",
    "y_test = test_df.iloc[:, 4].values\n",
    "\n",
    "validation_df = pandas.read_csv('datasets/validation.csv')\n",
    "X_validation = validation_df.iloc[:, [3, 5, 6, 7, 8, 9, 11]].values\n",
    "y_validation = validation_df.iloc[:, 4].values\n",
    "\n",
    "#normalizacija\n",
    "scaler = StandardScaler()\n",
    "scaler.fit(X_train)\n",
    "\n",
    "X_train = scaler.transform(X_train)\n",
    "X_test = scaler.transform(X_test)\n",
    "X_validation = scaler.transform(X_validation)\n",
    "\n",
    "#treniranje\n",
    "svc = SVC(gamma='auto').fit(X_train, y_train)\n",
    "\n",
    "#predikcija\n",
    "y_pred = svc.predict(X_test)"
   ]
  },
  {
   "cell_type": "code",
   "execution_count": 42,
   "id": "d79a49bc",
   "metadata": {},
   "outputs": [
    {
     "data": {
      "image/png": "[encoded data removed]",
      "text/plain": [
       "<Figure size 432x288 with 2 Axes>"
      ]
     },
     "metadata": {
      "needs_background": "light"
     },
     "output_type": "display_data"
    }
   ],
   "source": [
    "cm = confusion_matrix(y_test, y_pred)\n",
    "disp = ConfusionMatrixDisplay(\n",
    "    confusion_matrix=cm,\n",
    "    display_labels=svc.classes_\n",
    ")\n",
    "disp.plot()\n",
    "plt.show()"
   ]
  },
  {
   "cell_type": "code",
   "execution_count": 43,
   "id": "451b8271",
   "metadata": {},
   "outputs": [
    {
     "name": "stdout",
     "output_type": "stream",
     "text": [
      "              precision    recall  f1-score   support\n",
      "\n",
      "     NEUTRAL       0.56      0.56      0.56         9\n",
      "     POPULAR       0.62      0.89      0.73         9\n",
      "   UNPOPULAR       0.50      0.30      0.37        10\n",
      "\n",
      "    accuracy                           0.57        28\n",
      "   macro avg       0.56      0.58      0.55        28\n",
      "weighted avg       0.55      0.57      0.55        28\n",
      "\n"
     ]
    }
   ],
   "source": [
    "print(classification_report(y_test, y_pred))"
   ]
  },
  {
   "cell_type": "code",
   "execution_count": 44,
   "id": "3916d06a",
   "metadata": {},
   "outputs": [
    {
     "name": "stdout",
     "output_type": "stream",
     "text": [
      "current fscore:  0.5526094276094277\n",
      "old fscore: 0.6658160552897394\n"
     ]
    }
   ],
   "source": [
    "fscore = get_fscore(y_test, y_pred)\n",
    "print('current fscore: ', fscore)\n",
    "\n",
    "try:\n",
    "    filename = 'models/svc.pickle'\n",
    "    stored_model = pickle.load(open(filename, 'rb'))\n",
    "    y_pred = stored_model.predict(X_test)\n",
    "\n",
    "    old_fscore = get_fscore(y_test, y_pred)\n",
    "    print('old fscore:', old_fscore)\n",
    "\n",
    "    if fscore > old_fscore:\n",
    "        pickle.dump(svc, open(filename, 'wb'))\n",
    "        print('saved')\n",
    "        scores['support vector classification'] = fscore\n",
    "    else:\n",
    "        scores['support vector classification'] = old_fscore\n",
    "except FileNotFoundError:\n",
    "    pickle.dump(svc, open(filename, 'wb'))\n",
    "    print('saved')\n",
    "    scores['support vector classification'] = fscore"
   ]
  },
  {
   "cell_type": "markdown",
   "id": "cbf578d3",
   "metadata": {},
   "source": [
    "## Naive Bayes"
   ]
  },
  {
   "cell_type": "code",
   "execution_count": 45,
   "id": "b3da1e61",
   "metadata": {},
   "outputs": [],
   "source": [
    "#ucitavanje\n",
    "train_df = pandas.read_csv('datasets/train.csv')\n",
    "X_train = train_df.iloc[:, [3, 5, 6, 7, 8, 9, 11]].values\n",
    "y_train = train_df.iloc[:, 4].values\n",
    "\n",
    "test_df = pandas.read_csv('datasets/test.csv')\n",
    "X_test = test_df.iloc[:, [3, 5, 6, 7, 8, 9, 11]].values\n",
    "y_test = test_df.iloc[:, 4].values\n",
    "\n",
    "validation_df = pandas.read_csv('datasets/validation.csv')\n",
    "X_validation = validation_df.iloc[:, [3, 5, 6, 7, 8, 9, 11]].values\n",
    "y_validation = validation_df.iloc[:, 4].values\n",
    "\n",
    "#normalizacija\n",
    "scaler = StandardScaler()\n",
    "scaler.fit(X_train)\n",
    "\n",
    "X_train = scaler.transform(X_train)\n",
    "X_test = scaler.transform(X_test)\n",
    "X_validation = scaler.transform(X_validation)\n",
    "\n",
    "#treniranje\n",
    "gnb = GaussianNB()\n",
    "gnb.fit(X_train, y_train)\n",
    "\n",
    "#predikcija\n",
    "y_pred = gnb.predict(X_test)"
   ]
  },
  {
   "cell_type": "code",
   "execution_count": 46,
   "id": "25177c1e",
   "metadata": {},
   "outputs": [
    {
     "data": {
      "image/png": "[encoded data removed]",
      "text/plain": [
       "<Figure size 432x288 with 2 Axes>"
      ]
     },
     "metadata": {
      "needs_background": "light"
     },
     "output_type": "display_data"
    }
   ],
   "source": [
    "cm = confusion_matrix(y_test, y_pred)\n",
    "disp = ConfusionMatrixDisplay(\n",
    "    confusion_matrix=cm,\n",
    "    display_labels=gnb.classes_\n",
    ")\n",
    "disp.plot()\n",
    "plt.show()"
   ]
  },
  {
   "cell_type": "code",
   "execution_count": 47,
   "id": "0a6115b3",
   "metadata": {},
   "outputs": [
    {
     "name": "stdout",
     "output_type": "stream",
     "text": [
      "              precision    recall  f1-score   support\n",
      "\n",
      "     NEUTRAL       0.40      0.22      0.29         9\n",
      "     POPULAR       0.86      0.67      0.75         9\n",
      "   UNPOPULAR       0.50      0.80      0.62        10\n",
      "\n",
      "    accuracy                           0.57        28\n",
      "   macro avg       0.59      0.56      0.55        28\n",
      "weighted avg       0.58      0.57      0.55        28\n",
      "\n"
     ]
    }
   ],
   "source": [
    "print(classification_report(y_test, y_pred))"
   ]
  },
  {
   "cell_type": "code",
   "execution_count": 48,
   "id": "52b67d31",
   "metadata": {},
   "outputs": [
    {
     "name": "stdout",
     "output_type": "stream",
     "text": [
      "current fscore:  0.5503663003663003\n",
      "old fscore: 0.7153996101364521\n"
     ]
    }
   ],
   "source": [
    "fscore = get_fscore(y_test, y_pred)\n",
    "print('current fscore: ', fscore)\n",
    "\n",
    "try:\n",
    "    filename = 'models/gnb.pickle'\n",
    "    stored_model = pickle.load(open(filename, 'rb'))\n",
    "    y_pred = stored_model.predict(X_test)\n",
    "\n",
    "    old_fscore = get_fscore(y_test, y_pred)\n",
    "    print('old fscore:', old_fscore)\n",
    "\n",
    "    if fscore > old_fscore:\n",
    "        pickle.dump(gnb, open(filename, 'wb'))\n",
    "        print('saved')\n",
    "        scores['naive bayes'] = fscore\n",
    "    else:\n",
    "        scores['naive bayes'] = old_fscore\n",
    "except FileNotFoundError:\n",
    "    pickle.dump(gnb, open(filename, 'wb'))\n",
    "    print('saved')\n",
    "    scores['naive bayes'] = fscore"
   ]
  },
  {
   "cell_type": "markdown",
   "id": "45bc94ed",
   "metadata": {},
   "source": [
    "## Decision Tree"
   ]
  },
  {
   "cell_type": "code",
   "execution_count": 49,
   "id": "4de7f4fe",
   "metadata": {},
   "outputs": [],
   "source": [
    "#ucitavanje\n",
    "train_df = pandas.read_csv('datasets/train.csv')\n",
    "X_train = train_df.iloc[:, [3, 5, 6, 7, 8, 9, 11]].values\n",
    "y_train = train_df.iloc[:, 4].values\n",
    "\n",
    "test_df = pandas.read_csv('datasets/test.csv')\n",
    "X_test = test_df.iloc[:, [3, 5, 6, 7, 8, 9, 11]].values\n",
    "y_test = test_df.iloc[:, 4].values\n",
    "\n",
    "validation_df = pandas.read_csv('datasets/validation.csv')\n",
    "X_validation = validation_df.iloc[:, [3, 5, 6, 7, 8, 9, 11]].values\n",
    "y_validation = validation_df.iloc[:, 4].values\n",
    "\n",
    "#normalizacija\n",
    "scaler = StandardScaler()\n",
    "scaler.fit(X_train)\n",
    "\n",
    "X_train = scaler.transform(X_train)\n",
    "X_test = scaler.transform(X_test)\n",
    "X_validation = scaler.transform(X_validation)\n",
    "\n",
    "#treniranje\n",
    "dtc = DecisionTreeClassifier()\n",
    "dtc.fit(X_train, y_train)\n",
    "\n",
    "#predikcija\n",
    "y_pred = dtc.predict(X_test)"
   ]
  },
  {
   "cell_type": "code",
   "execution_count": 50,
   "id": "4b00f55d",
   "metadata": {},
   "outputs": [
    {
     "data": {
      "image/png": "[encoded data removed]",
      "text/plain": [
       "<Figure size 432x288 with 2 Axes>"
      ]
     },
     "metadata": {
      "needs_background": "light"
     },
     "output_type": "display_data"
    }
   ],
   "source": [
    "cm = confusion_matrix(y_test, y_pred)\n",
    "disp = ConfusionMatrixDisplay(\n",
    "    confusion_matrix=cm,\n",
    "    display_labels=dtc.classes_\n",
    ")\n",
    "disp.plot()\n",
    "plt.show()"
   ]
  },
  {
   "cell_type": "code",
   "execution_count": 51,
   "id": "7aa6064b",
   "metadata": {},
   "outputs": [
    {
     "name": "stdout",
     "output_type": "stream",
     "text": [
      "              precision    recall  f1-score   support\n",
      "\n",
      "     NEUTRAL       0.58      0.78      0.67         9\n",
      "     POPULAR       0.73      0.89      0.80         9\n",
      "   UNPOPULAR       0.80      0.40      0.53        10\n",
      "\n",
      "    accuracy                           0.68        28\n",
      "   macro avg       0.70      0.69      0.67        28\n",
      "weighted avg       0.71      0.68      0.66        28\n",
      "\n"
     ]
    }
   ],
   "source": [
    "print(classification_report(y_test, y_pred))"
   ]
  },
  {
   "cell_type": "code",
   "execution_count": 52,
   "id": "86af8b22",
   "metadata": {},
   "outputs": [],
   "source": [
    "# fig = plt.figure(figsize=(25,20))\n",
    "# _ = tree.plot_tree(dtc, \n",
    "#                    feature_names=['total_ratings', 'median_property_price', 'total_stops', 'competitiveness', 'entropy'],  \n",
    "#                    class_names=dtc.classes_,\n",
    "#                    filled=True, rounded = True, proportion = False)"
   ]
  },
  {
   "cell_type": "code",
   "execution_count": 53,
   "id": "4813d66c",
   "metadata": {},
   "outputs": [
    {
     "name": "stdout",
     "output_type": "stream",
     "text": [
      "current fscore:  0.6666666666666666\n",
      "old fscore: 0.7855750487329435\n"
     ]
    }
   ],
   "source": [
    "fscore = get_fscore(y_test, y_pred)\n",
    "print('current fscore: ', fscore)\n",
    "\n",
    "try:\n",
    "    filename = 'models/dtc.pickle'\n",
    "    stored_model = pickle.load(open(filename, 'rb'))\n",
    "    y_pred = stored_model.predict(X_test)\n",
    "\n",
    "    old_fscore = get_fscore(y_test, y_pred)\n",
    "    print('old fscore:', old_fscore)\n",
    "\n",
    "    if fscore > old_fscore:\n",
    "        pickle.dump(dtc, open(filename, 'wb'))\n",
    "        print('saved')\n",
    "        scores['decision tree'] = fscore\n",
    "    else:\n",
    "        scores['decision tree'] = fscore\n",
    "except FileNotFoundError:\n",
    "    pickle.dump(dtc, open(filename, 'wb'))\n",
    "    print('saved')\n",
    "    scores['decision tree'] = fscore"
   ]
  },
  {
   "cell_type": "markdown",
   "id": "7a92b3a3",
   "metadata": {},
   "source": [
    "## Random Forest Classifier"
   ]
  },
  {
   "cell_type": "code",
   "execution_count": 54,
   "id": "c7f0b392",
   "metadata": {},
   "outputs": [
    {
     "name": "stdout",
     "output_type": "stream",
     "text": [
      "estimators: 7\n",
      "max depth: 5\n",
      "max features: 3\n"
     ]
    }
   ],
   "source": [
    "#ucitavanje\n",
    "train_df = pandas.read_csv('datasets/train.csv')\n",
    "X_train = train_df.iloc[:, [3, 5, 6, 7, 8, 9, 11]].values\n",
    "y_train = train_df.iloc[:, 4].values\n",
    "\n",
    "test_df = pandas.read_csv('datasets/test.csv')\n",
    "X_test = test_df.iloc[:, [3, 5, 6, 7, 8, 9, 11]].values\n",
    "y_test = test_df.iloc[:, 4].values\n",
    "\n",
    "validation_df = pandas.read_csv('datasets/validation.csv')\n",
    "X_validation = validation_df.iloc[:, [3, 5, 6, 7, 8, 9, 11]].values\n",
    "y_validation = validation_df.iloc[:, 4].values\n",
    "\n",
    "#normalizacija\n",
    "scaler = StandardScaler()\n",
    "scaler.fit(X_train)\n",
    "\n",
    "X_train = scaler.transform(X_train)\n",
    "X_test = scaler.transform(X_test)\n",
    "X_validation = scaler.transform(X_validation)\n",
    "\n",
    "# optimizacija n_estimators i max_depth i max_features\n",
    "n_estimators = 1\n",
    "max_depth = 1\n",
    "max_features = 1\n",
    "min_error = float('inf')\n",
    "for i in range(5, 50): #estimators\n",
    "    for j in range(5, 20): #max depth\n",
    "        for k in range(1, 5): #max features\n",
    "            rfc = RandomForestClassifier(n_estimators=i, max_depth=j, max_features=k)\n",
    "            rfc.fit(X_train, y_train)\n",
    "            pred_i = rfc.predict(X_validation)\n",
    "            error = np.mean(pred_i != y_validation)\n",
    "            if error < min_error:\n",
    "                min_error = error\n",
    "                n_estimators = i\n",
    "                max_depth = j\n",
    "                max_features = k\n",
    "\n",
    "print('estimators: ' + str(n_estimators))\n",
    "print('max depth: ' + str(max_depth))\n",
    "print('max features: ' + str(max_features))\n",
    "\n",
    "# treniranje\n",
    "rfc = RandomForestClassifier(n_estimators=n_estimators, max_depth=max_depth, max_features=max_features)\n",
    "rfc = RandomForestClassifier()\n",
    "rfc.fit(X_train, y_train)\n",
    "\n",
    "# predikcija\n",
    "y_pred = rfc.predict(X_test)"
   ]
  },
  {
   "cell_type": "code",
   "execution_count": 55,
   "id": "197d7ada",
   "metadata": {},
   "outputs": [
    {
     "data": {
      "image/png": "[encoded data removed]",
      "text/plain": [
       "<Figure size 432x288 with 2 Axes>"
      ]
     },
     "metadata": {
      "needs_background": "light"
     },
     "output_type": "display_data"
    }
   ],
   "source": [
    "cm = confusion_matrix(y_test, y_pred)\n",
    "disp = ConfusionMatrixDisplay(\n",
    "    confusion_matrix=cm,\n",
    "    display_labels=rfc.classes_\n",
    ")\n",
    "disp.plot()\n",
    "plt.show()"
   ]
  },
  {
   "cell_type": "code",
   "execution_count": 57,
   "id": "80b8750f",
   "metadata": {},
   "outputs": [
    {
     "name": "stdout",
     "output_type": "stream",
     "text": [
      "              precision    recall  f1-score   support\n",
      "\n",
      "     NEUTRAL       0.56      0.56      0.56         9\n",
      "     POPULAR       0.73      0.89      0.80         9\n",
      "   UNPOPULAR       0.62      0.50      0.56        10\n",
      "\n",
      "    accuracy                           0.64        28\n",
      "   macro avg       0.64      0.65      0.64        28\n",
      "weighted avg       0.64      0.64      0.63        28\n",
      "\n"
     ]
    }
   ],
   "source": [
    "print(classification_report(y_test, y_pred))"
   ]
  },
  {
   "cell_type": "code",
   "execution_count": 58,
   "id": "c1f83fc9",
   "metadata": {},
   "outputs": [
    {
     "name": "stdout",
     "output_type": "stream",
     "text": [
      "current fscore:  0.6370370370370371\n",
      "old fscore: 0.8218782249742002\n"
     ]
    }
   ],
   "source": [
    "fscore = get_fscore(y_test, y_pred)\n",
    "print('current fscore: ', fscore)\n",
    "\n",
    "try:\n",
    "    filename = 'models/rfc.pickle'\n",
    "    stored_model = pickle.load(open(filename, 'rb'))\n",
    "    y_pred = stored_model.predict(X_test)\n",
    "\n",
    "    old_fscore = get_fscore(y_test, y_pred)\n",
    "    print('old fscore:', old_fscore)\n",
    "\n",
    "    if fscore > old_fscore:\n",
    "        pickle.dump(rfc, open(filename, 'wb'))\n",
    "        print('saved')\n",
    "        scores['random forest'] = fscore\n",
    "    else:\n",
    "        scores['random forest'] = old_fscore\n",
    "except FileNotFoundError:\n",
    "    pickle.dump(rfc, open(filename, 'wb'))\n",
    "    print('saved')\n",
    "    scores['random forest'] = fscore"
   ]
  },
  {
   "cell_type": "markdown",
   "id": "d388866d",
   "metadata": {},
   "source": [
    "# Rezultat"
   ]
  },
  {
   "cell_type": "code",
   "execution_count": 59,
   "id": "16cd8df9",
   "metadata": {},
   "outputs": [
    {
     "name": "stdout",
     "output_type": "stream",
     "text": [
      "random forest :  0.8218782249742002\n"
     ]
    }
   ],
   "source": [
    "model = max(scores, key = lambda k: scores[k])\n",
    "score = scores[model]\n",
    "print(model, ': ', score)"
   ]
  },
  {
   "cell_type": "markdown",
   "id": "5ca58488",
   "metadata": {},
   "source": [
    "# Kontrolna tacka 2"
   ]
  },
  {
   "cell_type": "markdown",
   "id": "596d9654",
   "metadata": {},
   "source": [
    "1. stops_count atribut umesto broja stanica sada se racuna po formuli\n",
    "2. objekti mogu imati vise od jedne kategorije i formule su prilagodjene tome\n",
    "3. dodat je tsq_distance atribut koji predstavlja udaljenost od centra grada\n",
    "4. vracen atribut rating\n",
    "5. skinuti komentari za lokaciju i dodat atribut negative_tips\n",
    "6. dodat atribut positive_tips_percent = sqrt(positive_percent)\n",
    "7. optimizovani hiperparametri "
   ]
  },
  {
   "cell_type": "code",
   "execution_count": null,
   "id": "08ecb61d",
   "metadata": {},
   "outputs": [],
   "source": []
  }
 ],
 "metadata": {
  "kernelspec": {
   "display_name": "Python 3 (ipykernel)",
   "language": "python",
   "name": "python3"
  },
  "language_info": {
   "codemirror_mode": {
    "name": "ipython",
    "version": 3
   },
   "file_extension": ".py",
   "mimetype": "text/x-python",
   "name": "python",
   "nbconvert_exporter": "python",
   "pygments_lexer": "ipython3",
   "version": "3.8.10"
  }
 },
 "nbformat": 4,
 "nbformat_minor": 5
}
