{
 "cells": [
  {
   "cell_type": "code",
   "execution_count": 211,
   "id": "224a61d5",
   "metadata": {},
   "outputs": [],
   "source": [
    "import pandas\n",
    "from sklearn.neighbors import KNeighborsClassifier\n",
    "from sklearn.preprocessing import StandardScaler\n",
    "from sklearn.metrics import classification_report, confusion_matrix\n",
    "import numpy as np\n",
    "from sklearn.linear_model import LogisticRegression\n",
    "from sklearn.svm import SVC\n",
    "from sklearn.naive_bayes import GaussianNB\n",
    "from sklearn.tree import DecisionTreeClassifier\n",
    "from matplotlib import pyplot as plt\n",
    "from sklearn import tree\n",
    "from sklearn.ensemble import RandomForestClassifier\n",
    "from sklearn.metrics import ConfusionMatrixDisplay\n",
    "import pickle\n",
    "from sklearn.metrics import precision_recall_fscore_support as score\n",
    "from sklearn.model_selection import GridSearchCV"
   ]
  },
  {
   "cell_type": "markdown",
   "id": "123e5e23",
   "metadata": {},
   "source": [
    "# Klasifikatori"
   ]
  },
  {
   "cell_type": "code",
   "execution_count": 212,
   "id": "8233c042",
   "metadata": {},
   "outputs": [],
   "source": [
    "def get_fscore(y_test, y_pred):\n",
    "    precision, recall, fscore, support=score(y_test, y_pred, average='macro')\n",
    "    return fscore"
   ]
  },
  {
   "cell_type": "markdown",
   "id": "acf26fdb",
   "metadata": {},
   "source": [
    "## KNN"
   ]
  },
  {
   "cell_type": "code",
   "execution_count": 213,
   "id": "9de488b3",
   "metadata": {},
   "outputs": [
    {
     "name": "stdout",
     "output_type": "stream",
     "text": [
      "k: 6\n"
     ]
    }
   ],
   "source": [
    "#ucitavanje\n",
    "train_df = pandas.read_csv('datasets/train.csv')\n",
    "X_train = train_df.iloc[:, [3, 5, 6, 7, 8, 9, 11]].values\n",
    "y_train = train_df.iloc[:, 4].values\n",
    "\n",
    "test_df = pandas.read_csv('datasets/test.csv')\n",
    "X_test = test_df.iloc[:, [3, 5, 6, 7, 8, 9, 11]].values\n",
    "y_test = test_df.iloc[:, 4].values\n",
    "\n",
    "validation_df = pandas.read_csv('datasets/validation.csv')\n",
    "X_validation = validation_df.iloc[:, [3, 5, 6, 7, 8, 9, 11]].values\n",
    "y_validation = validation_df.iloc[:, 4].values\n",
    "\n",
    "#normalizacija\n",
    "scaler = StandardScaler()\n",
    "scaler.fit(X_train)\n",
    "\n",
    "X_train = scaler.transform(X_train)\n",
    "X_test = scaler.transform(X_test)\n",
    "X_validation = scaler.transform(X_validation)\n",
    "\n",
    "#optimizacija k\n",
    "min_error = float('inf')\n",
    "k = 1\n",
    "for i in range(1, 50):\n",
    "    knn = KNeighborsClassifier(n_neighbors=i)\n",
    "    knn.fit(X_train, y_train)\n",
    "    pred_i = knn.predict(X_validation)\n",
    "    error = np.mean(pred_i != y_validation)\n",
    "    if error < min_error:\n",
    "        min_error = error\n",
    "        k = i\n",
    "    \n",
    "print('k: ' + str(k))\n",
    "\n",
    "#treniranje\n",
    "knn = KNeighborsClassifier(n_neighbors = k)\n",
    "knn.fit(X_train, y_train)\n",
    "\n",
    "#predikcija\n",
    "y_pred = knn.predict(X_test)"
   ]
  },
  {
   "cell_type": "code",
   "execution_count": 214,
   "id": "060c49a1",
   "metadata": {},
   "outputs": [
    {
     "data": {
      "image/png": "[encoded data removed]",
      "text/plain": [
       "<Figure size 432x288 with 2 Axes>"
      ]
     },
     "metadata": {
      "needs_background": "light"
     },
     "output_type": "display_data"
    }
   ],
   "source": [
    "cm = confusion_matrix(y_test, y_pred)\n",
    "disp = ConfusionMatrixDisplay(\n",
    "    confusion_matrix=cm,\n",
    "    display_labels=knn.classes_\n",
    ")\n",
    "disp.plot()\n",
    "plt.show()"
   ]
  },
  {
   "cell_type": "code",
   "execution_count": 215,
   "id": "1af3bc91",
   "metadata": {},
   "outputs": [
    {
     "name": "stdout",
     "output_type": "stream",
     "text": [
      "              precision    recall  f1-score   support\n",
      "\n",
      "     NEUTRAL       0.50      0.56      0.53         9\n",
      "     POPULAR       0.78      0.78      0.78         9\n",
      "   UNPOPULAR       0.33      0.30      0.32        10\n",
      "\n",
      "    accuracy                           0.54        28\n",
      "   macro avg       0.54      0.54      0.54        28\n",
      "weighted avg       0.53      0.54      0.53        28\n",
      "\n"
     ]
    }
   ],
   "source": [
    "print(classification_report(y_test, y_pred))"
   ]
  },
  {
   "cell_type": "code",
   "execution_count": 216,
   "id": "276e119c",
   "metadata": {},
   "outputs": [
    {
     "name": "stdout",
     "output_type": "stream",
     "text": [
      "current fscore:  0.5399610136452241\n",
      "old fscore: 0.6245822890559732\n"
     ]
    }
   ],
   "source": [
    "scores = {}\n",
    "\n",
    "fscore = get_fscore(y_test, y_pred)\n",
    "print('current fscore: ', fscore)\n",
    "\n",
    "try:\n",
    "    filename = 'models/knn.pickle'\n",
    "    stored_model = pickle.load(open(filename, 'rb'))\n",
    "    y_pred = stored_model.predict(X_test)\n",
    "\n",
    "    old_fscore = get_fscore(y_test, y_pred)\n",
    "    print('old fscore:', old_fscore)\n",
    "\n",
    "    if fscore > old_fscore:\n",
    "        pickle.dump(knn, open(filename, 'wb'))\n",
    "        print('saved')\n",
    "        scores['knn'] = fscore\n",
    "    else:\n",
    "        scores['knn'] = old_fscore\n",
    "except FileNotFoundError:\n",
    "    pickle.dump(knn, open(filename, 'wb'))\n",
    "    print('saved')\n",
    "    scores['knn'] = fscore"
   ]
  },
  {
   "cell_type": "markdown",
   "id": "3a8aa93a",
   "metadata": {},
   "source": [
    "## Logistic Regression"
   ]
  },
  {
   "cell_type": "code",
   "execution_count": 217,
   "id": "3b8003bf",
   "metadata": {
    "scrolled": true
   },
   "outputs": [
    {
     "name": "stdout",
     "output_type": "stream",
     "text": [
      "lbfgs\n",
      "[C: 100, error: 0.46429] [C: 10, error: 0.46429] [C: 1.0, error: 0.46429] [C: 0.5, error: 0.46429] [C: 0.3, error: 0.42857] [C: 0.1, error: 0.35714] [C: 0.05, error: 0.35714] [C: 0.03, error: 0.35714] [C: 0.01, error: 0.35714] [C: 0.001, error: 0.35714] \n",
      "sag\n",
      "[C: 100, error: 0.46429] [C: 10, error: 0.46429] [C: 1.0, error: 0.46429] [C: 0.5, error: 0.46429] [C: 0.3, error: 0.42857] [C: 0.1, error: 0.35714] [C: 0.05, error: 0.35714] [C: 0.03, error: 0.35714] [C: 0.01, error: 0.35714] [C: 0.001, error: 0.35714] \n",
      "newton-cg\n",
      "[C: 100, error: 0.46429] [C: 10, error: 0.46429] [C: 1.0, error: 0.46429] [C: 0.5, error: 0.46429] [C: 0.3, error: 0.42857] [C: 0.1, error: 0.35714] [C: 0.05, error: 0.35714] [C: 0.03, error: 0.35714] [C: 0.01, error: 0.35714] [C: 0.001, error: 0.35714] \n",
      "saga\n",
      "[C: 100, error: 0.46429] [C: 10, error: 0.46429] [C: 1.0, error: 0.46429] [C: 0.5, error: 0.46429] [C: 0.3, error: 0.42857] [C: 0.1, error: 0.35714] [C: 0.05, error: 0.35714] [C: 0.03, error: 0.35714] [C: 0.01, error: 0.35714] [C: 0.001, error: 0.35714] \n",
      "\n",
      "solver: lbfgs\n",
      "C: 0.1\n"
     ]
    }
   ],
   "source": [
    "#ucitavanje\n",
    "train_df = pandas.read_csv('datasets/train.csv')\n",
    "X_train = train_df.iloc[:, [2, 3, 5, 6, 7, 8, 9, 11]].values\n",
    "y_train = train_df.iloc[:, 4].values\n",
    "\n",
    "test_df = pandas.read_csv('datasets/test.csv')\n",
    "X_test = test_df.iloc[:, [2, 3, 5, 6, 7, 8, 9, 11]].values\n",
    "y_test = test_df.iloc[:, 4].values\n",
    "\n",
    "validation_df = pandas.read_csv('datasets/validation.csv')\n",
    "X_validation = validation_df.iloc[:, [2, 3, 5, 6, 7, 8, 9, 11]].values\n",
    "y_validation = validation_df.iloc[:, 4].values\n",
    "\n",
    "#normalizacija\n",
    "scaler = StandardScaler()\n",
    "scaler.fit(X_train)\n",
    "\n",
    "X_train = scaler.transform(X_train)\n",
    "X_test = scaler.transform(X_test)\n",
    "X_validation = scaler.transform(X_validation)\n",
    "\n",
    "#optimizacija parametara\n",
    "min_error = float('inf')\n",
    "solvers = ['lbfgs', 'sag', 'newton-cg', 'saga']\n",
    "c_values = [100, 10, 1.0, 0.5, 0.3, 0.1, 0.05, 0.03, 0.01, 0.001]\n",
    "solver = ''\n",
    "c = 0\n",
    "for s in solvers:\n",
    "    print(s);\n",
    "    for c_value in c_values:\n",
    "        lr = LogisticRegression(penalty='l2', solver=s, max_iter=5000, C=c_value, random_state=0).fit(X_train, y_train)\n",
    "        pred_sc = lr.predict(X_validation)\n",
    "        error = np.mean(pred_sc != y_validation)\n",
    "        print('[C: ' + str(c_value) + ', error: ' + str(round(error, 5)), end =\"] \")\n",
    "        if error < min_error:\n",
    "            min_error = error\n",
    "            solver = s\n",
    "            c = c_value\n",
    "    print('')\n",
    "    \n",
    "print('\\n' + 'solver: ' + solver)\n",
    "print('C: ' + str(c))\n",
    "\n",
    "#traniranje\n",
    "lr = LogisticRegression(penalty='l2', max_iter=5000, solver=solver, C=c, random_state=0).fit(X_train, y_train)\n",
    "\n",
    "#predikcija\n",
    "y_pred = lr.predict(X_test)"
   ]
  },
  {
   "cell_type": "code",
   "execution_count": 218,
   "id": "c10c668f",
   "metadata": {
    "scrolled": true
   },
   "outputs": [
    {
     "data": {
      "image/png": "[encoded data removed]",
      "text/plain": [
       "<Figure size 432x288 with 2 Axes>"
      ]
     },
     "metadata": {
      "needs_background": "light"
     },
     "output_type": "display_data"
    }
   ],
   "source": [
    "cm = confusion_matrix(y_test, y_pred)\n",
    "disp = ConfusionMatrixDisplay(\n",
    "    confusion_matrix=cm,\n",
    "    display_labels=lr.classes_\n",
    ")\n",
    "disp.plot()\n",
    "plt.show()"
   ]
  },
  {
   "cell_type": "code",
   "execution_count": 219,
   "id": "e1d08c8d",
   "metadata": {},
   "outputs": [
    {
     "name": "stdout",
     "output_type": "stream",
     "text": [
      "              precision    recall  f1-score   support\n",
      "\n",
      "     NEUTRAL       0.60      0.67      0.63         9\n",
      "     POPULAR       0.64      1.00      0.78         9\n",
      "   UNPOPULAR       0.75      0.30      0.43        10\n",
      "\n",
      "    accuracy                           0.64        28\n",
      "   macro avg       0.66      0.66      0.61        28\n",
      "weighted avg       0.67      0.64      0.61        28\n",
      "\n"
     ]
    }
   ],
   "source": [
    "print(classification_report(y_test, y_pred))"
   ]
  },
  {
   "cell_type": "code",
   "execution_count": 220,
   "id": "f83508ce",
   "metadata": {},
   "outputs": [
    {
     "name": "stdout",
     "output_type": "stream",
     "text": [
      "current fscore:  0.6142530238640078\n",
      "old fscore: 0.6142530238640078\n"
     ]
    }
   ],
   "source": [
    "fscore = get_fscore(y_test, y_pred)\n",
    "print('current fscore: ', fscore)\n",
    "\n",
    "try:\n",
    "    filename = 'models/lr.pickle'\n",
    "    stored_model = pickle.load(open(filename, 'rb'))\n",
    "    y_pred = stored_model.predict(X_test)\n",
    "\n",
    "    old_fscore = get_fscore(y_test, y_pred)\n",
    "    print('old fscore:', old_fscore)\n",
    "\n",
    "    if fscore > old_fscore:\n",
    "        pickle.dump(lr, open(filename, 'wb'))\n",
    "        print('saved')\n",
    "        scores['loristic regression'] = fscore\n",
    "    else:\n",
    "        scores['logistic regression'] = old_fscore\n",
    "except FileNotFoundError:\n",
    "    pickle.dump(lr, open(filename, 'wb'))\n",
    "    print('saved')\n",
    "    scores['logistic regression'] = fscore"
   ]
  },
  {
   "cell_type": "markdown",
   "id": "f0a134c4",
   "metadata": {},
   "source": [
    "## Support Vector Classification"
   ]
  },
  {
   "cell_type": "code",
   "execution_count": 221,
   "id": "d32726cb",
   "metadata": {},
   "outputs": [
    {
     "name": "stdout",
     "output_type": "stream",
     "text": [
      "linear\n",
      "[C: 100, gamma: scale, error: 0.53571] [C: 100, gamma: auto, error: 0.53571] [C: 10, gamma: scale, error: 0.5] [C: 10, gamma: auto, error: 0.5] [C: 1.0, gamma: scale, error: 0.42857] [C: 1.0, gamma: auto, error: 0.42857] [C: 0.1, gamma: scale, error: 0.42857] [C: 0.1, gamma: auto, error: 0.42857] [C: 0.01, gamma: scale, error: 0.39286] [C: 0.01, gamma: auto, error: 0.39286] \n",
      "poly\n",
      "[C: 100, gamma: scale, error: 0.46429] [C: 100, gamma: auto, error: 0.46429] [C: 10, gamma: scale, error: 0.5] [C: 10, gamma: auto, error: 0.5] [C: 1.0, gamma: scale, error: 0.5] [C: 1.0, gamma: auto, error: 0.5] [C: 0.1, gamma: scale, error: 0.60714] [C: 0.1, gamma: auto, error: 0.60714] [C: 0.01, gamma: scale, error: 0.60714] [C: 0.01, gamma: auto, error: 0.60714] \n",
      "rbf\n",
      "[C: 100, gamma: scale, error: 0.46429] [C: 100, gamma: auto, error: 0.46429] [C: 10, gamma: scale, error: 0.42857] [C: 10, gamma: auto, error: 0.42857] [C: 1.0, gamma: scale, error: 0.42857] [C: 1.0, gamma: auto, error: 0.42857] [C: 0.1, gamma: scale, error: 0.42857] [C: 0.1, gamma: auto, error: 0.42857] [C: 0.01, gamma: scale, error: 0.67857] [C: 0.01, gamma: auto, error: 0.67857] \n",
      "sigmoid\n",
      "[C: 100, gamma: scale, error: 0.57143] [C: 100, gamma: auto, error: 0.57143] [C: 10, gamma: scale, error: 0.53571] [C: 10, gamma: auto, error: 0.53571] [C: 1.0, gamma: scale, error: 0.57143] [C: 1.0, gamma: auto, error: 0.57143] [C: 0.1, gamma: scale, error: 0.32143] [C: 0.1, gamma: auto, error: 0.32143] [C: 0.01, gamma: scale, error: 0.67857] [C: 0.01, gamma: auto, error: 0.67857] \n",
      "\n",
      "kernel: sigmoid\n",
      "C: 0.1\n",
      "gamma: scale\n"
     ]
    }
   ],
   "source": [
    "#ucitavanje\n",
    "train_df = pandas.read_csv('datasets/train.csv')\n",
    "X_train = train_df.iloc[:, [3, 5, 6, 7, 8, 9, 11]].values\n",
    "y_train = train_df.iloc[:, 4].values\n",
    "\n",
    "test_df = pandas.read_csv('datasets/test.csv')\n",
    "X_test = test_df.iloc[:, [3, 5, 6, 7, 8, 9, 11]].values\n",
    "y_test = test_df.iloc[:, 4].values\n",
    "\n",
    "validation_df = pandas.read_csv('datasets/validation.csv')\n",
    "X_validation = validation_df.iloc[:, [3, 5, 6, 7, 8, 9, 11]].values\n",
    "y_validation = validation_df.iloc[:, 4].values\n",
    "\n",
    "#normalizacija\n",
    "scaler = StandardScaler()\n",
    "scaler.fit(X_train)\n",
    "\n",
    "X_train = scaler.transform(X_train)\n",
    "X_test = scaler.transform(X_test)\n",
    "X_validation = scaler.transform(X_validation)\n",
    "\n",
    "#optimizacija parametara\n",
    "min_error = float('inf')\n",
    "kernel_functions = ['linear', 'poly', 'rbf', 'sigmoid']\n",
    "gamma_values = ['scale', 'auto']\n",
    "c_values = [100, 10, 1.0, 0.1, 0.01]\n",
    "kernel = ''\n",
    "c = 0\n",
    "gamma = ''\n",
    "for kernel_function in kernel_functions:\n",
    "    print(kernel_function);\n",
    "    for c_value in c_values:\n",
    "        for gamma_value in gamma_values:\n",
    "            svc = SVC(kernel=kernel_function, C=c_value, gamma=gamma_value).fit(X_train, y_train)\n",
    "            pred_i = svc.predict(X_validation)\n",
    "            error = np.mean(pred_i != y_validation)\n",
    "            print('[C: ' + str(c_value) + ', gamma: ' + gamma_value + ', error: ' + str(round(error, 5)), end =\"] \")\n",
    "            if error < min_error:\n",
    "                min_error = error\n",
    "                kernel = kernel_function\n",
    "                c = c_value\n",
    "                gamma = gamma_value\n",
    "    print('')\n",
    "    \n",
    "print('\\n' + 'kernel: ' + kernel)\n",
    "print('C: ' + str(c))\n",
    "print('gamma: ' + gamma)\n",
    "\n",
    "#treniranje\n",
    "svc = SVC(kernel=kernel, C=c, gamma=gamma).fit(X_train, y_train)\n",
    "\n",
    "#predikcija\n",
    "y_pred = svc.predict(X_test)"
   ]
  },
  {
   "cell_type": "code",
   "execution_count": 222,
   "id": "d79a49bc",
   "metadata": {},
   "outputs": [
    {
     "data": {
      "image/png": "[encoded data removed]",
      "text/plain": [
       "<Figure size 432x288 with 2 Axes>"
      ]
     },
     "metadata": {
      "needs_background": "light"
     },
     "output_type": "display_data"
    }
   ],
   "source": [
    "cm = confusion_matrix(y_test, y_pred)\n",
    "disp = ConfusionMatrixDisplay(\n",
    "    confusion_matrix=cm,\n",
    "    display_labels=svc.classes_\n",
    ")\n",
    "disp.plot()\n",
    "plt.show()"
   ]
  },
  {
   "cell_type": "code",
   "execution_count": 223,
   "id": "451b8271",
   "metadata": {},
   "outputs": [
    {
     "name": "stdout",
     "output_type": "stream",
     "text": [
      "              precision    recall  f1-score   support\n",
      "\n",
      "     NEUTRAL       0.75      0.67      0.71         9\n",
      "     POPULAR       0.62      0.89      0.73         9\n",
      "   UNPOPULAR       0.71      0.50      0.59        10\n",
      "\n",
      "    accuracy                           0.68        28\n",
      "   macro avg       0.69      0.69      0.67        28\n",
      "weighted avg       0.69      0.68      0.67        28\n",
      "\n"
     ]
    }
   ],
   "source": [
    "print(classification_report(y_test, y_pred))"
   ]
  },
  {
   "cell_type": "code",
   "execution_count": 224,
   "id": "3916d06a",
   "metadata": {},
   "outputs": [
    {
     "name": "stdout",
     "output_type": "stream",
     "text": [
      "current fscore:  0.6737967914438503\n",
      "old fscore: 0.6737967914438503\n"
     ]
    }
   ],
   "source": [
    "fscore = get_fscore(y_test, y_pred)\n",
    "print('current fscore: ', fscore)\n",
    "\n",
    "try:\n",
    "    filename = 'models/svc.pickle'\n",
    "    stored_model = pickle.load(open(filename, 'rb'))\n",
    "    y_pred = stored_model.predict(X_test)\n",
    "\n",
    "    old_fscore = get_fscore(y_test, y_pred)\n",
    "    print('old fscore:', old_fscore)\n",
    "\n",
    "    if fscore > old_fscore:\n",
    "        pickle.dump(svc, open(filename, 'wb'))\n",
    "        print('saved')\n",
    "        scores['support vector classification'] = fscore\n",
    "    else:\n",
    "        scores['support vector classification'] = old_fscore\n",
    "except FileNotFoundError:\n",
    "    pickle.dump(svc, open(filename, 'wb'))\n",
    "    print('saved')\n",
    "    scores['support vector classification'] = fscore"
   ]
  },
  {
   "cell_type": "markdown",
   "id": "cbf578d3",
   "metadata": {},
   "source": [
    "## Naive Bayes"
   ]
  },
  {
   "cell_type": "code",
   "execution_count": 225,
   "id": "b3da1e61",
   "metadata": {},
   "outputs": [
    {
     "name": "stdout",
     "output_type": "stream",
     "text": [
      "\n",
      "var_smoothing: 1e-05\n"
     ]
    }
   ],
   "source": [
    "#ucitavanje\n",
    "train_df = pandas.read_csv('datasets/train.csv')\n",
    "X_train = train_df.iloc[:, [3, 6, 7, 8, 9, 10, 11]].values\n",
    "y_train = train_df.iloc[:, 4].values\n",
    "\n",
    "test_df = pandas.read_csv('datasets/test.csv')\n",
    "X_test = test_df.iloc[:, [3, 6, 7, 8, 9, 10, 11]].values\n",
    "y_test = test_df.iloc[:, 4].values\n",
    "\n",
    "validation_df = pandas.read_csv('datasets/validation.csv')\n",
    "X_validation = validation_df.iloc[:, [3, 6, 7, 8, 9, 10, 11]].values\n",
    "y_validation = validation_df.iloc[:, 4].values\n",
    "\n",
    "#normalizacija\n",
    "scaler = StandardScaler()\n",
    "scaler.fit(X_train)\n",
    "\n",
    "X_train = scaler.transform(X_train)\n",
    "X_test = scaler.transform(X_test)\n",
    "X_validation = scaler.transform(X_validation)\n",
    "\n",
    "#optimizacija\n",
    "min_error = float('inf')\n",
    "smoothing_values = np.logspace(-5,-9, num=50)\n",
    "sm = 0\n",
    "\n",
    "for i in smoothing_values:\n",
    "    gnb = GaussianNB(var_smoothing=i).fit(X_train, y_train)\n",
    "    pred_i = gnb.predict(X_validation)\n",
    "    error = np.mean(pred_i != y_validation)\n",
    "    if error < min_error:\n",
    "        min_error = error\n",
    "        sm = i\n",
    "    \n",
    "print('\\n' + 'var_smoothing: ' + str(sm))\n",
    "\n",
    "#treniranje\n",
    "gnb = GaussianNB(var_smoothing=sm)\n",
    "gnb.fit(X_train, y_train)\n",
    "gnb.get_params()\n",
    "\n",
    "#predikcija\n",
    "y_pred = gnb.predict(X_test)"
   ]
  },
  {
   "cell_type": "code",
   "execution_count": 226,
   "id": "25177c1e",
   "metadata": {},
   "outputs": [
    {
     "data": {
      "image/png": "[encoded data removed]",
      "text/plain": [
       "<Figure size 432x288 with 2 Axes>"
      ]
     },
     "metadata": {
      "needs_background": "light"
     },
     "output_type": "display_data"
    }
   ],
   "source": [
    "cm = confusion_matrix(y_test, y_pred)\n",
    "disp = ConfusionMatrixDisplay(\n",
    "    confusion_matrix=cm,\n",
    "    display_labels=gnb.classes_\n",
    ")\n",
    "disp.plot()\n",
    "plt.show()"
   ]
  },
  {
   "cell_type": "code",
   "execution_count": 227,
   "id": "0a6115b3",
   "metadata": {},
   "outputs": [
    {
     "name": "stdout",
     "output_type": "stream",
     "text": [
      "              precision    recall  f1-score   support\n",
      "\n",
      "     NEUTRAL       0.58      0.78      0.67         9\n",
      "     POPULAR       0.86      0.67      0.75         9\n",
      "   UNPOPULAR       0.78      0.70      0.74        10\n",
      "\n",
      "    accuracy                           0.71        28\n",
      "   macro avg       0.74      0.71      0.72        28\n",
      "weighted avg       0.74      0.71      0.72        28\n",
      "\n"
     ]
    }
   ],
   "source": [
    "print(classification_report(y_test, y_pred))"
   ]
  },
  {
   "cell_type": "code",
   "execution_count": 228,
   "id": "52b67d31",
   "metadata": {},
   "outputs": [
    {
     "name": "stdout",
     "output_type": "stream",
     "text": [
      "current fscore:  0.7178362573099415\n",
      "old fscore: 0.7178362573099415\n"
     ]
    }
   ],
   "source": [
    "fscore = get_fscore(y_test, y_pred)\n",
    "print('current fscore: ', fscore)\n",
    "\n",
    "try:\n",
    "    filename = 'models/gnb.pickle'\n",
    "    stored_model = pickle.load(open(filename, 'rb'))\n",
    "    y_pred = stored_model.predict(X_test)\n",
    "\n",
    "    old_fscore = get_fscore(y_test, y_pred)\n",
    "    print('old fscore:', old_fscore)\n",
    "\n",
    "    if fscore > old_fscore:\n",
    "        pickle.dump(gnb, open(filename, 'wb'))\n",
    "        print('saved')\n",
    "        scores['naive bayes'] = fscore\n",
    "    else:\n",
    "        scores['naive bayes'] = old_fscore\n",
    "except FileNotFoundError:\n",
    "    pickle.dump(gnb, open(filename, 'wb'))\n",
    "    print('saved')\n",
    "    scores['naive bayes'] = fscore"
   ]
  },
  {
   "cell_type": "markdown",
   "id": "45bc94ed",
   "metadata": {},
   "source": [
    "## Decision Tree"
   ]
  },
  {
   "cell_type": "code",
   "execution_count": 229,
   "id": "4de7f4fe",
   "metadata": {},
   "outputs": [
    {
     "name": "stdout",
     "output_type": "stream",
     "text": [
      "depth: 7\n"
     ]
    }
   ],
   "source": [
    "#ucitavanje\n",
    "train_df = pandas.read_csv('datasets/train.csv')\n",
    "X_train = train_df.iloc[:, [3, 5, 6, 7, 8, 9, 11]].values\n",
    "y_train = train_df.iloc[:, 4].values\n",
    "\n",
    "test_df = pandas.read_csv('datasets/test.csv')\n",
    "X_test = test_df.iloc[:, [3, 5, 6, 7, 8, 9, 11]].values\n",
    "y_test = test_df.iloc[:, 4].values\n",
    "\n",
    "validation_df = pandas.read_csv('datasets/validation.csv')\n",
    "X_validation = validation_df.iloc[:, [3, 5, 6, 7, 8, 9, 11]].values\n",
    "y_validation = validation_df.iloc[:, 4].values\n",
    "\n",
    "#normalizacija\n",
    "scaler = StandardScaler()\n",
    "scaler.fit(X_train)\n",
    "\n",
    "X_train = scaler.transform(X_train)\n",
    "X_test = scaler.transform(X_test)\n",
    "X_validation = scaler.transform(X_validation)\n",
    "\n",
    "#optimizacija\n",
    "depths = range(3, 100)\n",
    "min_error = float('inf')\n",
    "depth = 0\n",
    "for d in depths:\n",
    "    dtc = DecisionTreeClassifier(criterion='gini', max_depth=d, random_state=42).fit(X_train, y_train)\n",
    "    pred_i = dtc.predict(X_validation)\n",
    "    error = np.mean(pred_i != y_validation)\n",
    "    if error < min_error:\n",
    "        min_error = error\n",
    "        depth = d\n",
    "        \n",
    "print('depth: ' + str(depth))\n",
    "\n",
    "#treniranje\n",
    "dtc = DecisionTreeClassifier(criterion='gini', max_depth=depth, random_state=42)\n",
    "dtc.fit(X_train, y_train)\n",
    "\n",
    "#predikcija\n",
    "y_pred = dtc.predict(X_test)"
   ]
  },
  {
   "cell_type": "code",
   "execution_count": 230,
   "id": "4b00f55d",
   "metadata": {},
   "outputs": [
    {
     "data": {
      "image/png": "[encoded data removed]",
      "text/plain": [
       "<Figure size 432x288 with 2 Axes>"
      ]
     },
     "metadata": {
      "needs_background": "light"
     },
     "output_type": "display_data"
    }
   ],
   "source": [
    "cm = confusion_matrix(y_test, y_pred)\n",
    "disp = ConfusionMatrixDisplay(\n",
    "    confusion_matrix=cm,\n",
    "    display_labels=dtc.classes_\n",
    ")\n",
    "disp.plot()\n",
    "plt.show()"
   ]
  },
  {
   "cell_type": "code",
   "execution_count": 231,
   "id": "7aa6064b",
   "metadata": {},
   "outputs": [
    {
     "name": "stdout",
     "output_type": "stream",
     "text": [
      "              precision    recall  f1-score   support\n",
      "\n",
      "     NEUTRAL       0.67      0.44      0.53         9\n",
      "     POPULAR       0.67      0.89      0.76         9\n",
      "   UNPOPULAR       0.60      0.60      0.60        10\n",
      "\n",
      "    accuracy                           0.64        28\n",
      "   macro avg       0.64      0.64      0.63        28\n",
      "weighted avg       0.64      0.64      0.63        28\n",
      "\n"
     ]
    }
   ],
   "source": [
    "print(classification_report(y_test, y_pred))"
   ]
  },
  {
   "cell_type": "code",
   "execution_count": 232,
   "id": "86af8b22",
   "metadata": {},
   "outputs": [],
   "source": [
    "# fig = plt.figure(figsize=(25,20))\n",
    "# _ = tree.plot_tree(dtc, \n",
    "#                    feature_names=['total_ratings', 'median_property_price', 'total_stops', 'competitiveness', 'entropy'],  \n",
    "#                    class_names=dtc.classes_,\n",
    "#                    filled=True, rounded = True, proportion = False)"
   ]
  },
  {
   "cell_type": "code",
   "execution_count": 233,
   "id": "4813d66c",
   "metadata": {},
   "outputs": [
    {
     "name": "stdout",
     "output_type": "stream",
     "text": [
      "current fscore:  0.6317460317460317\n",
      "old fscore: 0.7855750487329435\n"
     ]
    }
   ],
   "source": [
    "fscore = get_fscore(y_test, y_pred)\n",
    "print('current fscore: ', fscore)\n",
    "\n",
    "try:\n",
    "    filename = 'models/dtc.pickle'\n",
    "    stored_model = pickle.load(open(filename, 'rb'))\n",
    "    y_pred = stored_model.predict(X_test)\n",
    "\n",
    "    old_fscore = get_fscore(y_test, y_pred)\n",
    "    print('old fscore:', old_fscore)\n",
    "\n",
    "    if fscore > old_fscore:\n",
    "        pickle.dump(dtc, open(filename, 'wb'))\n",
    "        print('saved')\n",
    "        scores['decision tree'] = fscore\n",
    "    else:\n",
    "        scores['decision tree'] = fscore\n",
    "except FileNotFoundError:\n",
    "    pickle.dump(dtc, open(filename, 'wb'))\n",
    "    print('saved')\n",
    "    scores['decision tree'] = fscore"
   ]
  },
  {
   "cell_type": "markdown",
   "id": "7a92b3a3",
   "metadata": {},
   "source": [
    "## Random Forest Classifier"
   ]
  },
  {
   "cell_type": "code",
   "execution_count": 238,
   "id": "c7f0b392",
   "metadata": {},
   "outputs": [
    {
     "name": "stdout",
     "output_type": "stream",
     "text": [
      "estimators: 30\n",
      "max depth: 50\n",
      "max features: 3\n",
      "min samples split: 20\n",
      "min samples leaf: 1\n"
     ]
    }
   ],
   "source": [
    "#ucitavanje\n",
    "train_df = pandas.read_csv('datasets/train.csv')\n",
    "X_train = train_df.iloc[:, [3, 5, 6, 7, 8, 9, 11]].values\n",
    "y_train = train_df.iloc[:, 4].values\n",
    "\n",
    "test_df = pandas.read_csv('datasets/test.csv')\n",
    "X_test = test_df.iloc[:, [3, 5, 6, 7, 8, 9, 11]].values\n",
    "y_test = test_df.iloc[:, 4].values\n",
    "\n",
    "validation_df = pandas.read_csv('datasets/validation.csv')\n",
    "X_validation = validation_df.iloc[:, [3, 5, 6, 7, 8, 9, 11]].values\n",
    "y_validation = validation_df.iloc[:, 4].values\n",
    "\n",
    "#normalizacija\n",
    "scaler = StandardScaler()\n",
    "scaler.fit(X_train)\n",
    "\n",
    "X_train = scaler.transform(X_train)\n",
    "X_test = scaler.transform(X_test)\n",
    "X_validation = scaler.transform(X_validation)\n",
    "\n",
    "# optimizacija n_estimators i max_depth i max_features\n",
    "n_estimators = 20\n",
    "max_depth = 20\n",
    "max_features = 2\n",
    "min_samples_split = 2\n",
    "min_samples_leaf = 1\n",
    "vfscore = 0\n",
    "i_range = [20, 30, 50, 100, 150]\n",
    "j_range = [20, 30, 50, 100, 150]\n",
    "l_range = [2, 10, 20]\n",
    "m_range = [1, 2, 3, 5]\n",
    "for i in i_range: #estimators\n",
    "    for j in j_range: #max depth\n",
    "        for k in range(2, 5): #max features\n",
    "            for l in l_range: #min samples split\n",
    "                for m in m_range: #min samples leaf\n",
    "                    rfc = RandomForestClassifier(\n",
    "                        n_estimators=i, max_depth=j, max_features=k, \n",
    "                        min_samples_split=l, min_samples_leaf=m)\n",
    "                    rfc.fit(X_train, y_train)\n",
    "                    y_pred = rfc.predict(X_validation)\n",
    "                    _, _, cfscore, _ = score(y_validation, y_pred, average='macro')\n",
    "                    if vfscore < cfscore:\n",
    "                        vfscore = cfscore\n",
    "                        n_estimators = i\n",
    "                        max_depth = j\n",
    "                        max_features = k\n",
    "                        min_samples_split = l\n",
    "                        min_samples_leaf = m\n",
    "\n",
    "print('estimators: ' + str(n_estimators))\n",
    "print('max depth: ' + str(max_depth))\n",
    "print('max features: ' + str(max_features))\n",
    "print('min samples split: ' + str(min_samples_split))\n",
    "print('min samples leaf: ' + str(min_samples_leaf))\n",
    "\n",
    "# treniranje\n",
    "rfc = RandomForestClassifier(\n",
    "    n_estimators=n_estimators, max_depth=max_depth, max_features=max_features,\n",
    "    min_samples_split=min_samples_split, min_samples_leaf=min_samples_leaf)\n",
    "rfc = RandomForestClassifier()\n",
    "rfc.fit(X_train, y_train)\n",
    "\n",
    "# predikcija\n",
    "y_pred = rfc.predict(X_test)"
   ]
  },
  {
   "cell_type": "code",
   "execution_count": 239,
   "id": "197d7ada",
   "metadata": {},
   "outputs": [
    {
     "data": {
      "image/png": "[encoded data removed]",
      "text/plain": [
       "<Figure size 432x288 with 2 Axes>"
      ]
     },
     "metadata": {
      "needs_background": "light"
     },
     "output_type": "display_data"
    }
   ],
   "source": [
    "cm = confusion_matrix(y_test, y_pred)\n",
    "disp = ConfusionMatrixDisplay(\n",
    "    confusion_matrix=cm,\n",
    "    display_labels=rfc.classes_\n",
    ")\n",
    "disp.plot()\n",
    "plt.show()"
   ]
  },
  {
   "cell_type": "code",
   "execution_count": 240,
   "id": "80b8750f",
   "metadata": {},
   "outputs": [
    {
     "name": "stdout",
     "output_type": "stream",
     "text": [
      "              precision    recall  f1-score   support\n",
      "\n",
      "     NEUTRAL       0.56      0.56      0.56         9\n",
      "     POPULAR       0.62      0.89      0.73         9\n",
      "   UNPOPULAR       0.50      0.30      0.37        10\n",
      "\n",
      "    accuracy                           0.57        28\n",
      "   macro avg       0.56      0.58      0.55        28\n",
      "weighted avg       0.55      0.57      0.55        28\n",
      "\n"
     ]
    }
   ],
   "source": [
    "print(classification_report(y_test, y_pred))"
   ]
  },
  {
   "cell_type": "code",
   "execution_count": 241,
   "id": "c1f83fc9",
   "metadata": {},
   "outputs": [
    {
     "name": "stdout",
     "output_type": "stream",
     "text": [
      "current fscore:  0.5526094276094277\n",
      "old fscore: 0.8218782249742002\n"
     ]
    }
   ],
   "source": [
    "fscore = get_fscore(y_test, y_pred)\n",
    "print('current fscore: ', fscore)\n",
    "\n",
    "try:\n",
    "    filename = 'models/rfc.pickle'\n",
    "    stored_model = pickle.load(open(filename, 'rb'))\n",
    "    y_pred = stored_model.predict(X_test)\n",
    "\n",
    "    old_fscore = get_fscore(y_test, y_pred)\n",
    "    print('old fscore:', old_fscore)\n",
    "\n",
    "    if fscore > old_fscore:\n",
    "        pickle.dump(rfc, open(filename, 'wb'))\n",
    "        print('saved')\n",
    "        scores['random forest'] = fscore\n",
    "    else:\n",
    "        scores['random forest'] = old_fscore\n",
    "except FileNotFoundError:\n",
    "    pickle.dump(rfc, open(filename, 'wb'))\n",
    "    print('saved')\n",
    "    scores['random forest'] = fscore"
   ]
  },
  {
   "cell_type": "markdown",
   "id": "d388866d",
   "metadata": {},
   "source": [
    "# Rezultat"
   ]
  },
  {
   "cell_type": "code",
   "execution_count": 242,
   "id": "16cd8df9",
   "metadata": {},
   "outputs": [
    {
     "name": "stdout",
     "output_type": "stream",
     "text": [
      "random forest :  0.8218782249742002\n"
     ]
    }
   ],
   "source": [
    "model = max(scores, key = lambda k: scores[k])\n",
    "score = scores[model]\n",
    "print(model, ': ', score)"
   ]
  },
  {
   "cell_type": "markdown",
   "id": "5ca58488",
   "metadata": {},
   "source": [
    "# Kontrolna tacka 2"
   ]
  },
  {
   "cell_type": "markdown",
   "id": "596d9654",
   "metadata": {},
   "source": [
    "1. stops_count atribut umesto broja stanica sada se racuna po formuli\n",
    "2. objekti mogu imati vise od jedne kategorije i formule su prilagodjene tome\n",
    "3. dodat je tsq_distance atribut koji predstavlja udaljenost od centra grada\n",
    "4. vracen atribut rating\n",
    "5. skinuti komentari za lokaciju i dodat atribut negative_tips\n",
    "6. dodat atribut positive_tips_percent = sqrt(positive_percent)\n",
    "7. optimizovani hiperparametri "
   ]
  },
  {
   "cell_type": "code",
   "execution_count": null,
   "id": "08ecb61d",
   "metadata": {},
   "outputs": [],
   "source": []
  }
 ],
 "metadata": {
  "kernelspec": {
   "display_name": "Python 3 (ipykernel)",
   "language": "python",
   "name": "python3"
  },
  "language_info": {
   "codemirror_mode": {
    "name": "ipython",
    "version": 3
   },
   "file_extension": ".py",
   "mimetype": "text/x-python",
   "name": "python",
   "nbconvert_exporter": "python",
   "pygments_lexer": "ipython3",
   "version": "3.8.10"
  }
 },
 "nbformat": 4,
 "nbformat_minor": 5
}
